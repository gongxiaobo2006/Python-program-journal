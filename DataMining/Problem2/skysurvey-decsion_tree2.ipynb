{
 "cells": [
  {
   "cell_type": "code",
   "execution_count": 1,
   "metadata": {},
   "outputs": [
    {
     "data": {
      "text/plain": [
       "True"
      ]
     },
     "execution_count": 1,
     "metadata": {},
     "output_type": "execute_result"
    }
   ],
   "source": [
    "import Orange\n",
    "from sklearn import tree\n",
    "from sklearn.datasets import load_iris\n",
    "from sklearn.externals.six import StringIO\n",
    "import pydot\n",
    "import numpy as np\n",
    "import random\n",
    "from numpy.random import RandomState\n",
    "from scipy import stats\n",
    "import math\n",
    "import graphviz\n",
    "import pandas as pd\n",
    "import pydotplus \n",
    "\n",
    "#read traning data\n",
    "train = pd.read_csv('/Users/Oliver/Desktop/香港大學研究生/Data Mining/Assignment2/skysurvey/Skyserver.csv')\n",
    "train_class = pd.read_csv('/Users/Oliver/Desktop/香港大學研究生/Data Mining/Assignment2/skysurvey/training_class.csv',header=None)\n",
    "\n",
    "x=train[['ra','dec','u','g','r','i','z','run','rerun','camcol','field','specobjid','redshift','plate','mjd','fiberid']]\n",
    "y = train_class\n",
    "\n",
    "clf = tree.DecisionTreeClassifier(criterion='gini')\n",
    "clf = clf.fit(x, y)\n",
    "\n",
    "dot_data = tree.export_graphviz(clf, out_file=None,\n",
    "                                feature_names=['ra','dec','u','g','r','i','z','run','rerun','camcol','field','specobjid','redshift','plate','mjd','fiberid'],\n",
    "                                class_names='class')  \n",
    "graph = pydotplus.graph_from_dot_data(dot_data) \n",
    "graph.write_pdf(\"descision tree1.pdf\") "
   ]
  },
  {
   "cell_type": "code",
   "execution_count": 2,
   "metadata": {},
   "outputs": [
    {
     "name": "stdout",
     "output_type": "stream",
     "text": [
      "training errors:0.0\n"
     ]
    }
   ],
   "source": [
    "print \"training errors:\"+str((1-clf.score(x,y)))"
   ]
  },
  {
   "cell_type": "code",
   "execution_count": 3,
   "metadata": {},
   "outputs": [
    {
     "name": "stdout",
     "output_type": "stream",
     "text": [
      "Number of nodes in the tree:203\n"
     ]
    }
   ],
   "source": [
    "print \"Number of nodes in the tree:\" +str(clf.tree_.node_count)"
   ]
  },
  {
   "cell_type": "code",
   "execution_count": null,
   "metadata": {},
   "outputs": [],
   "source": []
  },
  {
   "cell_type": "code",
   "execution_count": null,
   "metadata": {},
   "outputs": [],
   "source": []
  },
  {
   "cell_type": "code",
   "execution_count": null,
   "metadata": {},
   "outputs": [],
   "source": []
  },
  {
   "cell_type": "code",
   "execution_count": null,
   "metadata": {},
   "outputs": [],
   "source": []
  },
  {
   "cell_type": "code",
   "execution_count": null,
   "metadata": {},
   "outputs": [],
   "source": []
  },
  {
   "cell_type": "code",
   "execution_count": null,
   "metadata": {},
   "outputs": [],
   "source": []
  },
  {
   "cell_type": "code",
   "execution_count": null,
   "metadata": {},
   "outputs": [],
   "source": []
  },
  {
   "cell_type": "code",
   "execution_count": null,
   "metadata": {},
   "outputs": [],
   "source": []
  },
  {
   "cell_type": "code",
   "execution_count": null,
   "metadata": {},
   "outputs": [],
   "source": []
  },
  {
   "cell_type": "code",
   "execution_count": 36,
   "metadata": {},
   "outputs": [
    {
     "data": {
      "text/plain": [
       "True"
      ]
     },
     "execution_count": 36,
     "metadata": {},
     "output_type": "execute_result"
    }
   ],
   "source": [
    "clf2 = tree.DecisionTreeClassifier(min_samples_leaf = 100,min_impurity_decrease = 1e-03,max_leaf_nodes=150)\n",
    "clf2 = clf2.fit(x, y)\n",
    "\n",
    "dot_data = tree.export_graphviz(clf2, out_file=None,\n",
    "                                feature_names=['ra','dec','u','g','r','i','z','run','rerun','camcol','field','specobjid','redshift','plate','mjd','fiberid'],\n",
    "                                class_names='class')  \n",
    "graph = pydotplus.graph_from_dot_data(dot_data) \n",
    "graph.write_pdf(\"descision tree2.pdf\")"
   ]
  },
  {
   "cell_type": "code",
   "execution_count": 8,
   "metadata": {},
   "outputs": [
    {
     "name": "stdout",
     "output_type": "stream",
     "text": [
      "training errors:0.011299999999999977\n"
     ]
    }
   ],
   "source": [
    "print \"training errors:\"+str((1-clf2.score(x,y)))"
   ]
  },
  {
   "cell_type": "code",
   "execution_count": 9,
   "metadata": {},
   "outputs": [
    {
     "name": "stdout",
     "output_type": "stream",
     "text": [
      "Number of nodes in the tree:5\n"
     ]
    }
   ],
   "source": [
    "print \"Number of nodes in the tree:\" +str(clf2.tree_.node_count)"
   ]
  },
  {
   "cell_type": "code",
   "execution_count": 22,
   "metadata": {},
   "outputs": [
    {
     "name": "stdout",
     "output_type": "stream",
     "text": [
      "[1, -1, 3, -1, -1]\n",
      "3\n",
      "[1, 3, 4]\n",
      "[[[4152.0, 4998.0, 850.0]], [[4148.0, 23.0, 1.0]], [[4.0, 4975.0, 849.0]], [[4.0, 4950.0, 60.0]], [[0.0, 25.0, 789.0]]]\n",
      "[4148.0, 23.0, 1.0]\n",
      "[[4148.0, 23.0, 1.0], [4.0, 4950.0, 60.0], [0.0, 25.0, 789.0]]\n"
     ]
    }
   ],
   "source": [
    "tree_node_child = list(clf2.tree_.children_left)\n",
    "print tree_node_child\n",
    "leaf_num =0 \n",
    "for i in range (len(tree_node_child)):\n",
    "    if tree_node_child[i] == -1:\n",
    "        leaf_num=leaf_num+1\n",
    "print leaf_num\n",
    "\n",
    "find = -1\n",
    "leaf_pos = [i for i,v in enumerate(tree_node_child) if v==find]\n",
    "print leaf_pos\n",
    "\n",
    "tree_value=clf2.tree_.value.tolist()\n",
    "print tree_value\n",
    "print tree_value[1][0]\n",
    "\n",
    "leaf_value = []\n",
    "for position in leaf_pos:\n",
    "    leaf_value.append(tree_value[position][0])\n",
    "print leaf_value"
   ]
  },
  {
   "cell_type": "code",
   "execution_count": 32,
   "metadata": {},
   "outputs": [
    {
     "name": "stdout",
     "output_type": "stream",
     "text": [
      "generalization_error of orignal decision tree is 0.511300\n",
      "generalization_error of pruned decision tree is 0.500000\n"
     ]
    }
   ],
   "source": [
    "training_error = (1-clf2.score(x,y))\n",
    "training_error = float(training_error)\n",
    "\n",
    "training_error_pruned = (23+1+4+849)/10000\n",
    "training_error_pruned = float(training_error_pruned)\n",
    "\n",
    "generalization_error = training_error+(0.5*3)/3\n",
    "generalization_error_pruned =training_error_pruned+(0.5*2)/2\n",
    "print \"generalization_error of orignal decision tree is %f\" %(generalization_error)\n",
    "print \"generalization_error of pruned decision tree is %f\" %(generalization_error_pruned)"
   ]
  },
  {
   "cell_type": "code",
   "execution_count": null,
   "metadata": {},
   "outputs": [],
   "source": []
  },
  {
   "cell_type": "code",
   "execution_count": null,
   "metadata": {},
   "outputs": [],
   "source": []
  }
 ],
 "metadata": {
  "kernelspec": {
   "display_name": "Python 2",
   "language": "python",
   "name": "python2"
  },
  "language_info": {
   "codemirror_mode": {
    "name": "ipython",
    "version": 2
   },
   "file_extension": ".py",
   "mimetype": "text/x-python",
   "name": "python",
   "nbconvert_exporter": "python",
   "pygments_lexer": "ipython2",
   "version": "2.7.14"
  }
 },
 "nbformat": 4,
 "nbformat_minor": 2
}
