{
 "cells": [
  {
   "cell_type": "code",
   "execution_count": 53,
   "metadata": {},
   "outputs": [
    {
     "data": {
      "text/plain": [
       "True"
      ]
     },
     "execution_count": 53,
     "metadata": {},
     "output_type": "execute_result"
    }
   ],
   "source": [
    "import Orange\n",
    "from sklearn import tree\n",
    "from sklearn.datasets import load_iris\n",
    "from sklearn.externals.six import StringIO\n",
    "import pydot\n",
    "import numpy as np\n",
    "import random\n",
    "from numpy.random import RandomState\n",
    "from scipy import stats\n",
    "import math\n",
    "import graphviz\n",
    "import pandas as pd\n",
    "import pydotplus \n",
    "\n",
    "#read traning data\n",
    "train = pd.read_csv('/Users/Oliver/Desktop/香港大學研究生/Data Mining/Assignment2/skysurvey/Skyserver.csv')\n",
    "train_class = pd.read_csv('/Users/Oliver/Desktop/香港大學研究生/Data Mining/Assignment2/skysurvey/training_class.csv',header=None)\n",
    "\n",
    "#target='class' \n",
    "#ID = 'objid' \n",
    "#train['class'].value_counts() #类别计算\n",
    "#x_columns0 = [x for x in train.columns if x not in [target, ID]]\n",
    "#X = train[x_columns0]\n",
    "#x = train[['ra','dec']]\n",
    "#x = train[['u','g','r','i','z']]\n",
    "x=train[['ra','dec','u','g','r','i','z','run','rerun','camcol','field','specobjid','redshift','plate','mjd','fiberid']]\n",
    "y = train_class\n",
    "\n",
    "\n",
    "clf = tree.DecisionTreeClassifier(criterion='gini')\n",
    "clf = clf.fit(x, y)\n",
    "\n",
    "dot_data = tree.export_graphviz(clf, out_file=None,\n",
    "                                #feature_names=['u','g','r','i','z'], \n",
    "                                feature_names=['ra','dec','u','g','r','i','z','run','rerun','camcol','field','specobjid','redshift','plate','mjd','fiberid'],\n",
    "                                class_names='class')  \n",
    "                                #filled=True, rounded=True,  \n",
    "                                #special_characters=True ) \n",
    "graph = pydotplus.graph_from_dot_data(dot_data) \n",
    "graph.write_pdf(\"test4.pdf\") \n"
   ]
  },
  {
   "cell_type": "code",
   "execution_count": 54,
   "metadata": {},
   "outputs": [
    {
     "name": "stdout",
     "output_type": "stream",
     "text": [
      "training errors:0.0\n"
     ]
    }
   ],
   "source": [
    "print \"training errors:\"+str((1-clf.score(x,y)))"
   ]
  },
  {
   "cell_type": "code",
   "execution_count": 55,
   "metadata": {},
   "outputs": [
    {
     "name": "stdout",
     "output_type": "stream",
     "text": [
      "Number of nodes in the tree:205\n"
     ]
    }
   ],
   "source": [
    "print \"Number of nodes in the tree:\" +str(clf.tree_.node_count)"
   ]
  },
  {
   "cell_type": "code",
   "execution_count": 56,
   "metadata": {},
   "outputs": [
    {
     "name": "stdout",
     "output_type": "stream",
     "text": [
      "[1, 2, 3, 4, 5, 6, 7, 8, -1, 10, -1, -1, -1, -1, 15, -1, -1, 18, -1, 20, -1, -1, 23, -1, 25, 26, 27, -1, -1, -1, 31, -1, -1, 34, -1, -1, 37, 38, 39, 40, 41, -1, -1, 44, 45, 46, 47, 48, 49, 50, 51, 52, -1, -1, 55, -1, 57, -1, -1, 60, 61, -1, -1, -1, -1, -1, 67, 68, 69, 70, 71, 72, -1, 74, -1, -1, 77, -1, -1, 80, -1, 82, -1, 84, -1, -1, -1, -1, 89, -1, 91, -1, -1, 94, 95, -1, 97, 98, 99, -1, -1, -1, -1, 104, 105, 106, -1, -1, 109, 110, -1, -1, -1, 114, -1, -1, 117, -1, -1, 120, -1, 122, 123, 124, 125, -1, 127, 128, -1, -1, -1, -1, -1, 134, 135, -1, -1, -1, -1, 140, 141, -1, 143, 144, 145, -1, 147, 148, -1, -1, -1, -1, -1, 154, 155, 156, 157, 158, -1, -1, -1, -1, 163, -1, -1, 166, -1, -1, 169, 170, 171, -1, -1, -1, 175, 176, 177, -1, 179, 180, -1, -1, 183, -1, 185, -1, -1, -1, 189, 190, -1, 192, 193, -1, -1, 196, 197, 198, -1, 200, -1, -1, -1, -1, -1]\n",
      "205.0\n",
      "103.0\n",
      "0.50243902439\n"
     ]
    }
   ],
   "source": [
    "Ge = list(clf.tree_.children_left)\n",
    "print Ge\n",
    "count =0 \n",
    "for i in range (len(Ge)):\n",
    "    if Ge[i] == -1:\n",
    "        count=count+1\n",
    "len_count = float(len(Ge))\n",
    "count = float(count)\n",
    "\n",
    "percent = count/len_count\n",
    "print len_count\n",
    "print count\n",
    "print percent"
   ]
  },
  {
   "cell_type": "code",
   "execution_count": 57,
   "metadata": {},
   "outputs": [
    {
     "name": "stdout",
     "output_type": "stream",
     "text": [
      "[8, 10, 11, 12, 13, 15, 16, 18, 20, 21, 23, 27, 28, 29, 31, 32, 34, 35, 41, 42, 52, 53, 55, 57, 58, 61, 62, 63, 64, 65, 72, 74, 75, 77, 78, 80, 82, 84, 85, 86, 87, 89, 91, 92, 95, 99, 100, 101, 102, 106, 107, 110, 111, 112, 114, 115, 117, 118, 120, 125, 128, 129, 130, 131, 132, 135, 136, 137, 138, 141, 145, 148, 149, 150, 151, 152, 158, 159, 160, 161, 163, 164, 166, 167, 171, 172, 173, 177, 180, 181, 183, 185, 186, 187, 190, 193, 194, 198, 200, 201, 202, 203, 204]\n",
      "[[[470.0, 0.0, 0.0]], [[0.0, 1.0, 0.0]], [[25.0, 0.0, 0.0]], [[0.0, 1.0, 0.0]], [[1400.0, 0.0, 0.0]], [[1.0, 0.0, 0.0]], [[0.0, 17.0, 0.0]], [[1734.0, 0.0, 0.0]], [[0.0, 0.0, 1.0]], [[463.0, 0.0, 0.0]], [[0.0, 1.0, 0.0]], [[0.0, 1.0, 0.0]], [[3.0, 0.0, 0.0]], [[49.0, 0.0, 0.0]], [[0.0, 1.0, 0.0]], [[1.0, 0.0, 0.0]], [[0.0, 1.0, 0.0]], [[2.0, 0.0, 0.0]], [[0.0, 7.0, 0.0]], [[4.0, 0.0, 0.0]], [[0.0, 7.0, 0.0]], [[0.0, 0.0, 1.0]], [[0.0, 497.0, 0.0]], [[0.0, 0.0, 1.0]], [[0.0, 40.0, 0.0]], [[0.0, 0.0, 1.0]], [[0.0, 11.0, 0.0]], [[0.0, 0.0, 2.0]], [[0.0, 0.0, 1.0]], [[0.0, 0.0, 1.0]], [[0.0, 744.0, 0.0]], [[0.0, 0.0, 1.0]], [[0.0, 53.0, 0.0]], [[0.0, 54.0, 0.0]], [[0.0, 0.0, 1.0]], [[0.0, 0.0, 1.0]], [[0.0, 44.0, 0.0]], [[0.0, 0.0, 1.0]], [[0.0, 8.0, 0.0]], [[0.0, 0.0, 1.0]], [[0.0, 2423.0, 0.0]], [[0.0, 0.0, 1.0]], [[0.0, 0.0, 1.0]], [[0.0, 176.0, 0.0]], [[0.0, 0.0, 3.0]], [[0.0, 18.0, 0.0]], [[0.0, 0.0, 1.0]], [[0.0, 0.0, 1.0]], [[0.0, 0.0, 2.0]], [[0.0, 22.0, 0.0]], [[0.0, 0.0, 1.0]], [[0.0, 47.0, 0.0]], [[0.0, 0.0, 1.0]], [[0.0, 525.0, 0.0]], [[0.0, 0.0, 1.0]], [[0.0, 10.0, 0.0]], [[0.0, 0.0, 1.0]], [[0.0, 4.0, 0.0]], [[0.0, 0.0, 5.0]], [[0.0, 0.0, 1.0]], [[0.0, 0.0, 1.0]], [[0.0, 2.0, 0.0]], [[0.0, 19.0, 0.0]], [[0.0, 0.0, 1.0]], [[0.0, 0.0, 1.0]], [[0.0, 6.0, 0.0]], [[0.0, 0.0, 1.0]], [[0.0, 166.0, 0.0]], [[0.0, 0.0, 2.0]], [[0.0, 0.0, 2.0]], [[0.0, 10.0, 0.0]], [[0.0, 2.0, 0.0]], [[0.0, 0.0, 1.0]], [[0.0, 0.0, 2.0]], [[0.0, 42.0, 0.0]], [[0.0, 0.0, 1.0]], [[0.0, 3.0, 0.0]], [[0.0, 0.0, 1.0]], [[0.0, 0.0, 2.0]], [[0.0, 8.0, 0.0]], [[0.0, 1.0, 0.0]], [[0.0, 0.0, 6.0]], [[0.0, 0.0, 8.0]], [[0.0, 1.0, 0.0]], [[0.0, 1.0, 0.0]], [[0.0, 0.0, 3.0]], [[0.0, 4.0, 0.0]], [[0.0, 0.0, 33.0]], [[0.0, 0.0, 1.0]], [[0.0, 6.0, 0.0]], [[0.0, 0.0, 17.0]], [[0.0, 2.0, 0.0]], [[0.0, 0.0, 1.0]], [[0.0, 3.0, 0.0]], [[0.0, 3.0, 0.0]], [[0.0, 3.0, 0.0]], [[0.0, 0.0, 3.0]], [[0.0, 0.0, 132.0]], [[0.0, 1.0, 0.0]], [[0.0, 0.0, 2.0]], [[0.0, 1.0, 0.0]], [[0.0, 1.0, 0.0]], [[0.0, 0.0, 597.0]]]\n",
      "[[0.0, 1.0, 0.0]]\n",
      "[0, 1, 0, 1, 0, 0, 1, 0, 2, 0, 1, 1, 0, 0, 1, 0, 1, 0, 1, 0, 1, 2, 1, 2, 1, 2, 1, 2, 2, 2, 1, 2, 1, 1, 2, 2, 1, 2, 1, 2, 1, 2, 2, 1, 2, 1, 2, 2, 2, 1, 2, 1, 2, 1, 2, 1, 2, 1, 2, 2, 2, 1, 1, 2, 2, 1, 2, 1, 2, 2, 1, 1, 2, 2, 1, 2, 1, 2, 2, 1, 1, 2, 2, 1, 1, 2, 1, 2, 2, 1, 2, 1, 2, 1, 1, 1, 2, 2, 1, 2, 1, 1, 2]\n",
      "10000.0\n"
     ]
    }
   ],
   "source": [
    "#print clf.tree_.value\n",
    "find = -1\n",
    "outvalue = [i for i,v in enumerate(Ge) if v==find]\n",
    "print outvalue\n",
    "\n",
    "tree_value= list(clf.tree_.value)\n",
    "tree_v =[]\n",
    "#print (tree_value)\n",
    "for i in outvalue:\n",
    "    tree_v_list = tree_value[i].tolist()\n",
    "    tree_v.append(tree_v_list)\n",
    "print tree_v\n",
    "print tree_v[1]\n",
    "\n",
    "tree_class=[0 for col in range(len(tree_v))]\n",
    "tree_error_value =0\n",
    "for i in range(len(tree_v)):\n",
    "    leaf = tree_v[i]\n",
    "    #print leaf[0]\n",
    "    if leaf[0][0] > leaf[0][1] and leaf[0][0] >leaf[0][2]:\n",
    "        tree_class[i]= 0;\n",
    "        tree_error_value=tree_error_value+leaf[0][0]\n",
    "    elif leaf[0][1] > leaf[0][2] and leaf[0][1] > leaf[0][0] :\n",
    "        tree_class[i]= 1;\n",
    "        tree_error_value=tree_error_value+leaf[0][1]\n",
    "    elif leaf[0][2] > leaf[0][0] and leaf[0][2] > leaf[0][1]:\n",
    "        tree_class[i]= 2;\n",
    "        tree_error_value=tree_error_value+leaf[0][2]\n",
    "print tree_class\n",
    "print tree_error_value"
   ]
  },
  {
   "cell_type": "code",
   "execution_count": 58,
   "metadata": {},
   "outputs": [
    {
     "name": "stdout",
     "output_type": "stream",
     "text": [
      "10000.0\n",
      "0.0\n",
      "5e-05\n"
     ]
    }
   ],
   "source": [
    "tree_total_value=0\n",
    "for i in range(len(tree_v)):\n",
    "    leaf = tree_v[i]\n",
    "    tree_total_value = tree_total_value + leaf[0][0] + leaf[0][1] +leaf[0][2]\n",
    "print tree_total_value \n",
    "\n",
    "\n",
    "traning_error = (tree_total_value-tree_error_value)/tree_total_value \n",
    "print traning_error\n",
    "\n",
    "Generalization_error = ((tree_total_value-tree_error_value)+0.5)/tree_total_value \n",
    "print Generalization_error"
   ]
  },
  {
   "cell_type": "code",
   "execution_count": 59,
   "metadata": {},
   "outputs": [
    {
     "name": "stdout",
     "output_type": "stream",
     "text": [
      "[1, 2, 3, 4, 5, 6, -1, 8, -1, 10, -1, -1, -1, 14, -1, -1, 17, -1, -1, 20, 21, -1, 23, -1, -1, -1, 27, 28, 29, 30, -1, -1, 33, 34, -1, 36, 37, 38, 39, 40, -1, -1, -1, 44, -1, 46, -1, 48, 49, -1, -1, -1, -1, 54, -1, 56, 57, -1, 59, -1, -1, 62, -1, 64, 65, 66, -1, 68, -1, 70, 71, -1, -1, 74, 75, -1, -1, -1, -1, -1, 81, 82, -1, 84, 85, -1, -1, 88, -1, 90, 91, 92, -1, -1, -1, -1, 97, 98, 99, 100, 101, -1, -1, -1, 105, 106, -1, -1, 109, 110, -1, -1, -1, -1, 115, 116, -1, -1, -1, 120, -1, 122, 123, 124, -1, 126, 127, -1, -1, -1, 131, -1, 133, -1, -1, 136, -1, -1, 139, 140, 141, 142, 143, -1, -1, 146, -1, 148, -1, -1, 151, 152, -1, 154, -1, -1, -1, 158, 159, 160, -1, -1, 163, 164, -1, 166, 167, 168, -1, -1, -1, -1, 173, -1, -1, 176, -1, -1, -1]\n",
      "179.0\n",
      "90.0\n",
      "0.502793296089\n"
     ]
    }
   ],
   "source": [
    "clf1 = tree.DecisionTreeClassifier(criterion='entropy')\n",
    "clf1 = clf1.fit(x, y)\n",
    "\n",
    "Ge = list(clf1.tree_.children_left)\n",
    "print Ge\n",
    "count =0 \n",
    "for i in range (len(Ge)):\n",
    "    if Ge[i] == -1:\n",
    "        count=count+1\n",
    "len_count = float(len(Ge))\n",
    "count = float(count)\n",
    "\n",
    "percent = count/len_count\n",
    "print len_count\n",
    "print count\n",
    "print percent"
   ]
  },
  {
   "cell_type": "code",
   "execution_count": 60,
   "metadata": {},
   "outputs": [
    {
     "name": "stdout",
     "output_type": "stream",
     "text": [
      "training errors:0.0\n",
      "Number of nodes in the tree:205\n"
     ]
    }
   ],
   "source": [
    "dot_data = tree.export_graphviz(clf1, out_file=None,\n",
    "                                #feature_names=['u','g','r','i','z'], \n",
    "                                feature_names=['ra','dec','u','g','r','i','z','run','rerun','camcol','field','specobjid','redshift','plate','mjd','fiberid'],\n",
    "                                class_names='class')  \n",
    "                                #filled=True, rounded=True,  \n",
    "                                #special_characters=True ) \n",
    "graph = pydotplus.graph_from_dot_data(dot_data) \n",
    "graph.write_pdf(\"test6.pdf\") \n",
    "\n",
    "print \"training errors:\"+str((1-clf.score(x,y)))\n",
    "print \"Number of nodes in the tree:\" +str(clf.tree_.node_count)"
   ]
  },
  {
   "cell_type": "code",
   "execution_count": 61,
   "metadata": {},
   "outputs": [
    {
     "name": "stdout",
     "output_type": "stream",
     "text": [
      "[6, 8, 10, 11, 12, 14, 15, 17, 18, 21, 23, 24, 25, 30, 31, 34, 40, 41, 42, 44, 46, 49, 50, 51, 52, 54, 57, 59, 60, 62, 66, 68, 71, 72, 75, 76, 77, 78, 79, 82, 85, 86, 88, 92, 93, 94, 95, 101, 102, 103, 106, 107, 110, 111, 112, 113, 116, 117, 118, 120, 124, 127, 128, 129, 131, 133, 134, 136, 137, 143, 144, 146, 148, 149, 152, 154, 155, 156, 160, 161, 164, 168, 169, 170, 171, 173, 174, 176, 177, 178]\n",
      "[[[470.0, 0.0, 0.0]], [[0.0, 1.0, 0.0]], [[25.0, 0.0, 0.0]], [[0.0, 1.0, 0.0]], [[1408.0, 0.0, 0.0]], [[13.0, 0.0, 0.0]], [[0.0, 1.0, 0.0]], [[1.0, 0.0, 0.0]], [[0.0, 19.0, 0.0]], [[1756.0, 0.0, 0.0]], [[0.0, 0.0, 1.0]], [[475.0, 0.0, 0.0]], [[0.0, 1.0, 0.0]], [[0.0, 7.0, 0.0]], [[4.0, 0.0, 0.0]], [[0.0, 1573.0, 0.0]], [[0.0, 1.0, 0.0]], [[0.0, 0.0, 1.0]], [[0.0, 26.0, 0.0]], [[0.0, 0.0, 3.0]], [[0.0, 7.0, 0.0]], [[0.0, 0.0, 3.0]], [[0.0, 1.0, 0.0]], [[0.0, 3.0, 0.0]], [[0.0, 56.0, 0.0]], [[0.0, 0.0, 1.0]], [[0.0, 1552.0, 0.0]], [[0.0, 0.0, 1.0]], [[0.0, 63.0, 0.0]], [[0.0, 0.0, 1.0]], [[0.0, 311.0, 0.0]], [[0.0, 0.0, 1.0]], [[0.0, 0.0, 1.0]], [[0.0, 3.0, 0.0]], [[0.0, 12.0, 0.0]], [[0.0, 0.0, 1.0]], [[0.0, 138.0, 0.0]], [[0.0, 0.0, 1.0]], [[0.0, 314.0, 0.0]], [[0.0, 10.0, 0.0]], [[0.0, 1.0, 0.0]], [[0.0, 0.0, 10.0]], [[0.0, 6.0, 0.0]], [[0.0, 2.0, 0.0]], [[0.0, 0.0, 1.0]], [[0.0, 0.0, 4.0]], [[0.0, 3.0, 0.0]], [[0.0, 6.0, 0.0]], [[0.0, 0.0, 1.0]], [[0.0, 187.0, 0.0]], [[0.0, 1.0, 0.0]], [[0.0, 0.0, 2.0]], [[0.0, 5.0, 0.0]], [[0.0, 0.0, 2.0]], [[0.0, 30.0, 0.0]], [[0.0, 0.0, 2.0]], [[0.0, 42.0, 0.0]], [[0.0, 0.0, 1.0]], [[0.0, 523.0, 0.0]], [[0.0, 36.0, 0.0]], [[0.0, 0.0, 9.0]], [[0.0, 1.0, 0.0]], [[0.0, 0.0, 3.0]], [[0.0, 3.0, 0.0]], [[0.0, 0.0, 3.0]], [[0.0, 26.0, 0.0]], [[0.0, 0.0, 1.0]], [[0.0, 1.0, 0.0]], [[0.0, 0.0, 7.0]], [[0.0, 4.0, 0.0]], [[0.0, 0.0, 2.0]], [[0.0, 0.0, 17.0]], [[0.0, 0.0, 8.0]], [[0.0, 2.0, 0.0]], [[0.0, 2.0, 0.0]], [[0.0, 0.0, 4.0]], [[0.0, 1.0, 0.0]], [[0.0, 5.0, 0.0]], [[0.0, 0.0, 1.0]], [[0.0, 2.0, 0.0]], [[0.0, 1.0, 0.0]], [[0.0, 1.0, 0.0]], [[0.0, 0.0, 36.0]], [[0.0, 1.0, 0.0]], [[0.0, 0.0, 144.0]], [[0.0, 2.0, 0.0]], [[0.0, 0.0, 3.0]], [[0.0, 4.0, 0.0]], [[0.0, 0.0, 5.0]], [[0.0, 0.0, 569.0]]]\n",
      "[[0.0, 1.0, 0.0]]\n",
      "[0, 1, 0, 1, 0, 0, 1, 0, 1, 0, 2, 0, 1, 1, 0, 1, 1, 2, 1, 2, 1, 2, 1, 1, 1, 2, 1, 2, 1, 2, 1, 2, 2, 1, 1, 2, 1, 2, 1, 1, 1, 2, 1, 1, 2, 2, 1, 1, 2, 1, 1, 2, 1, 2, 1, 2, 1, 2, 1, 1, 2, 1, 2, 1, 2, 1, 2, 1, 2, 1, 2, 2, 2, 1, 1, 2, 1, 1, 2, 1, 1, 1, 2, 1, 2, 1, 2, 1, 2, 2]\n",
      "10000.0\n"
     ]
    }
   ],
   "source": [
    "#print clf.tree_.value\n",
    "find = -1\n",
    "outvalue = [i for i,v in enumerate(Ge) if v==find]\n",
    "print outvalue\n",
    "\n",
    "tree_value= list(clf1.tree_.value)\n",
    "tree_v =[]\n",
    "#print (tree_value)\n",
    "for i in outvalue:\n",
    "    tree_v_list = tree_value[i].tolist()\n",
    "    tree_v.append(tree_v_list)\n",
    "print tree_v\n",
    "print tree_v[1]\n",
    "\n",
    "tree_class=[0 for col in range(len(tree_v))]\n",
    "tree_error_value =0\n",
    "for i in range(len(tree_v)):\n",
    "    leaf = tree_v[i]\n",
    "    #print leaf[0]\n",
    "    if leaf[0][0] > leaf[0][1] and leaf[0][0] >leaf[0][2]:\n",
    "        tree_class[i]= 0;\n",
    "        tree_error_value=tree_error_value+leaf[0][0]\n",
    "    elif leaf[0][1] > leaf[0][2] and leaf[0][1] > leaf[0][0] :\n",
    "        tree_class[i]= 1;\n",
    "        tree_error_value=tree_error_value+leaf[0][1]\n",
    "    elif leaf[0][2] > leaf[0][0] and leaf[0][2] > leaf[0][1]:\n",
    "        tree_class[i]= 2;\n",
    "        tree_error_value=tree_error_value+leaf[0][2]\n",
    "print tree_class\n",
    "print tree_error_value"
   ]
  },
  {
   "cell_type": "code",
   "execution_count": 62,
   "metadata": {},
   "outputs": [
    {
     "name": "stdout",
     "output_type": "stream",
     "text": [
      "10000.0\n"
     ]
    }
   ],
   "source": [
    "tree_total_value=0\n",
    "for i in range(len(tree_v)):\n",
    "    leaf = tree_v[i]\n",
    "    tree_total_value = tree_total_value + leaf[0][0] + leaf[0][1] +leaf[0][2]\n",
    "print tree_total_value "
   ]
  },
  {
   "cell_type": "code",
   "execution_count": 63,
   "metadata": {},
   "outputs": [
    {
     "name": "stdout",
     "output_type": "stream",
     "text": [
      "0.0\n",
      "5e-05\n"
     ]
    }
   ],
   "source": [
    "traning_error = (tree_total_value-tree_error_value)/tree_total_value \n",
    "print traning_error\n",
    "\n",
    "Generalization_error = ((tree_total_value-tree_error_value)+0.5)/tree_total_value \n",
    "print Generalization_error"
   ]
  },
  {
   "cell_type": "code",
   "execution_count": 64,
   "metadata": {},
   "outputs": [
    {
     "data": {
      "text/plain": [
       "True"
      ]
     },
     "execution_count": 64,
     "metadata": {},
     "output_type": "execute_result"
    }
   ],
   "source": [
    "clf3 = tree.DecisionTreeClassifier(min_samples_leaf = 100,min_impurity_decrease = 1e-07,max_leaf_nodes=150)\n",
    "#min_samples_leaf = 100,min_impurity_split = 1e-07\n",
    "clf3 = clf3.fit(x, y)\n",
    "\n",
    "dot_data = tree.export_graphviz(clf3, out_file=None,\n",
    "                                #feature_names=['u','g','r','i','z'], \n",
    "                                feature_names=['ra','dec','u','g','r','i','z','run','rerun','camcol','field','specobjid','redshift','plate','mjd','fiberid'],\n",
    "                                class_names='class')  \n",
    "                                #filled=True, rounded=True,  \n",
    "                                #special_characters=True ) \n",
    "graph = pydotplus.graph_from_dot_data(dot_data) \n",
    "graph.write_pdf(\"test5.pdf\") \n"
   ]
  },
  {
   "cell_type": "code",
   "execution_count": 65,
   "metadata": {},
   "outputs": [
    {
     "name": "stdout",
     "output_type": "stream",
     "text": [
      "training errors:0.011299999999999977\n"
     ]
    }
   ],
   "source": [
    "print \"training errors:\"+str((1-clf3.score(x,y)))"
   ]
  },
  {
   "cell_type": "code",
   "execution_count": 66,
   "metadata": {},
   "outputs": [
    {
     "name": "stdout",
     "output_type": "stream",
     "text": [
      "Number of nodes in the tree:55\n"
     ]
    }
   ],
   "source": [
    "print \"Number of nodes in the tree:\" +str(clf3.tree_.node_count)"
   ]
  },
  {
   "cell_type": "code",
   "execution_count": 67,
   "metadata": {},
   "outputs": [
    {
     "name": "stdout",
     "output_type": "stream",
     "text": [
      "[1, 17, 3, 5, 7, 11, -1, 9, 47, -1, -1, 15, 13, -1, -1, -1, 21, 19, 43, 33, -1, 23, 29, 25, -1, -1, 27, -1, -1, 35, 31, -1, -1, -1, 49, 39, 37, -1, -1, 41, -1, 45, -1, 51, -1, -1, -1, -1, -1, -1, -1, -1, 53, -1, -1]\n",
      "55.0\n",
      "28.0\n",
      "0.509090909091\n"
     ]
    }
   ],
   "source": [
    "Ge = list(clf3.tree_.children_left)\n",
    "print Ge\n",
    "count =0 \n",
    "for i in range (len(Ge)):\n",
    "    if Ge[i] == -1:\n",
    "        count=count+1\n",
    "len_count = float(len(Ge))\n",
    "count = float(count)\n",
    "\n",
    "percent = count/len_count\n",
    "print len_count\n",
    "print count\n",
    "print percent"
   ]
  },
  {
   "cell_type": "code",
   "execution_count": 70,
   "metadata": {},
   "outputs": [
    {
     "name": "stdout",
     "output_type": "stream",
     "text": [
      "[6, 9, 10, 13, 14, 15, 20, 24, 25, 27, 28, 31, 32, 33, 37, 38, 40, 42, 44, 45, 46, 47, 48, 49, 50, 51, 53, 54]\n",
      "[[[0.0, 77.0, 23.0]], [[0.0, 18.0, 82.0]], [[0.0, 6.0, 109.0]], [[0.0, 88.0, 12.0]], [[0.0, 103.0, 0.0]], [[4.0, 96.0, 0.0]], [[83.0, 19.0, 0.0]], [[0.0, 97.0, 11.0]], [[0.0, 775.0, 0.0]], [[0.0, 150.0, 0.0]], [[0.0, 136.0, 5.0]], [[0.0, 97.0, 3.0]], [[0.0, 121.0, 0.0]], [[176.0, 2.0, 0.0]], [[0.0, 98.0, 2.0]], [[0.0, 109.0, 0.0]], [[0.0, 2202.0, 0.0]], [[0.0, 125.0, 3.0]], [[99.0, 1.0, 0.0]], [[0.0, 577.0, 0.0]], [[0.0, 99.0, 1.0]], [[0.0, 1.0, 99.0]], [[0.0, 0.0, 499.0]], [[177.0, 1.0, 0.0]], [[1481.0, 0.0, 0.0]], [[1756.0, 0.0, 0.0]], [[277.0, 0.0, 0.0]], [[99.0, 0.0, 1.0]]]\n",
      "[[0.0, 18.0, 82.0]]\n",
      "[1, 2, 2, 1, 1, 1, 0, 1, 1, 1, 1, 1, 1, 0, 1, 1, 1, 1, 0, 1, 1, 2, 2, 0, 0, 0, 0, 0]\n",
      "9887.0\n"
     ]
    }
   ],
   "source": [
    "#print clf.tree_.value\n",
    "find = -1\n",
    "outvalue = [i for i,v in enumerate(Ge) if v==find]\n",
    "print outvalue\n",
    "\n",
    "tree_value= list(clf3.tree_.value)\n",
    "tree_v =[]\n",
    "#print (tree_value)\n",
    "for i in outvalue:\n",
    "    tree_v_list = tree_value[i].tolist()\n",
    "    tree_v.append(tree_v_list)\n",
    "print tree_v\n",
    "print tree_v[1]\n",
    "\n",
    "tree_class=[0 for col in range(len(tree_v))]\n",
    "tree_error_value =0\n",
    "for i in range(len(tree_v)):\n",
    "    leaf = tree_v[i]\n",
    "    #print leaf[0]\n",
    "    if leaf[0][0] > leaf[0][1] and leaf[0][0] >leaf[0][2]:\n",
    "        tree_class[i]= 0;\n",
    "        tree_error_value=tree_error_value+leaf[0][0]\n",
    "    elif leaf[0][1] > leaf[0][2] and leaf[0][1] > leaf[0][0] :\n",
    "        tree_class[i]= 1;\n",
    "        tree_error_value=tree_error_value+leaf[0][1]\n",
    "    elif leaf[0][2] > leaf[0][0] and leaf[0][2] > leaf[0][1]:\n",
    "        tree_class[i]= 2;\n",
    "        tree_error_value=tree_error_value+leaf[0][2]\n",
    "print tree_class\n",
    "print tree_error_value"
   ]
  },
  {
   "cell_type": "code",
   "execution_count": 71,
   "metadata": {},
   "outputs": [
    {
     "name": "stdout",
     "output_type": "stream",
     "text": [
      "10000.0\n",
      "0.0113\n",
      "0.01135\n"
     ]
    }
   ],
   "source": [
    "tree_total_value=0\n",
    "for i in range(len(tree_v)):\n",
    "    leaf = tree_v[i]\n",
    "    tree_total_value = tree_total_value + leaf[0][0] + leaf[0][1] +leaf[0][2]\n",
    "print tree_total_value \n",
    "\n",
    "traning_error = (tree_total_value-tree_error_value)/tree_total_value \n",
    "print traning_error\n",
    "\n",
    "Generalization_error = ((tree_total_value-tree_error_value)+0.5)/tree_total_value \n",
    "print Generalization_error"
   ]
  },
  {
   "cell_type": "code",
   "execution_count": null,
   "metadata": {},
   "outputs": [],
   "source": []
  }
 ],
 "metadata": {
  "kernelspec": {
   "display_name": "Python 2",
   "language": "python",
   "name": "python2"
  },
  "language_info": {
   "codemirror_mode": {
    "name": "ipython",
    "version": 2
   },
   "file_extension": ".py",
   "mimetype": "text/x-python",
   "name": "python",
   "nbconvert_exporter": "python",
   "pygments_lexer": "ipython2",
   "version": "2.7.14"
  }
 },
 "nbformat": 4,
 "nbformat_minor": 2
}
