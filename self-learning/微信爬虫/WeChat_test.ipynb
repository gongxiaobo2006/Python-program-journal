{
 "cells": [
  {
   "cell_type": "code",
   "execution_count": 5,
   "metadata": {},
   "outputs": [
    {
     "name": "stderr",
     "output_type": "stream",
     "text": [
      "Getting uuid of QR code.\n",
      "Downloading QR code.\n",
      "Please scan the QR code to log in.\n",
      "Please press confirm on your phone.\n",
      "LOG OUT!\n",
      "Loading the contact, this may take a little while.\n",
      "Login successfully as 黎沛含\n"
     ]
    },
    {
     "name": "stdout",
     "output_type": "stream",
     "text": [
      "<class 'wxpy.api.chats.chats.Chats'>\n"
     ]
    }
   ],
   "source": [
    "from wxpy import *\n",
    "\n",
    "# 初始化机器人，扫码登陆\n",
    "bot = Bot()\n",
    "\n",
    "# 获取所有好友\n",
    "my_friends = bot.friends()\n",
    "print(type(my_friends))"
   ]
  },
  {
   "cell_type": "code",
   "execution_count": 6,
   "metadata": {},
   "outputs": [
    {
     "name": "stdout",
     "output_type": "stream",
     "text": [
      "{'male': 177, 'female': 120}\n"
     ]
    }
   ],
   "source": [
    "# 使用一个字典统计好友男性和女性的数量\n",
    "sex_dict = {'male': 0, 'female': 0}\n",
    "\n",
    "for friend in my_friends:\n",
    "    # 统计性别\n",
    "    if friend.sex == 1:\n",
    "        sex_dict['male'] += 1\n",
    "    elif friend.sex == 2:\n",
    "        sex_dict['female'] += 1\n",
    "\n",
    "print(sex_dict)"
   ]
  },
  {
   "cell_type": "code",
   "execution_count": 14,
   "metadata": {},
   "outputs": [
    {
     "name": "stdout",
     "output_type": "stream",
     "text": [
      "[{'name': '北京', 'value': 8}, {'name': '上海', 'value': 7}, {'name': '天津', 'value': 2}, {'name': '重庆', 'value': 95}, {'name': '河北', 'value': 1}, {'name': '山西', 'value': 1}, {'name': '吉林', 'value': 0}, {'name': '辽宁', 'value': 3}, {'name': '黑龙江', 'value': 1}, {'name': '陕西', 'value': 2}, {'name': '甘肃', 'value': 0}, {'name': '青海', 'value': 0}, {'name': '山东', 'value': 3}, {'name': '福建', 'value': 3}, {'name': '浙江', 'value': 6}, {'name': '台湾', 'value': 0}, {'name': '河南', 'value': 0}, {'name': '湖北', 'value': 0}, {'name': '湖南', 'value': 2}, {'name': '江西', 'value': 0}, {'name': '江苏', 'value': 3}, {'name': '安徽', 'value': 0}, {'name': '广东', 'value': 14}, {'name': '海南', 'value': 0}, {'name': '四川', 'value': 7}, {'name': '贵州', 'value': 1}, {'name': '云南', 'value': 0}, {'name': '内蒙古', 'value': 0}, {'name': '新疆', 'value': 1}, {'name': '宁夏', 'value': 0}, {'name': '广西', 'value': 0}, {'name': '西藏', 'value': 0}, {'name': '香港', 'value': 18}, {'name': '澳门', 'value': 0}]\n"
     ]
    }
   ],
   "source": [
    "# 使用一个字典统计各省好友数量\n",
    "province_dict = {'北京': 0, '上海': 0, '天津': 0, '重庆': 0,\n",
    "    '河北': 0, '山西': 0, '吉林': 0, '辽宁': 0, '黑龙江': 0,\n",
    "    '陕西': 0, '甘肃': 0, '青海': 0, '山东': 0, '福建': 0,\n",
    "    '浙江': 0, '台湾': 0, '河南': 0, '湖北': 0, '湖南': 0,\n",
    "    '江西': 0, '江苏': 0, '安徽': 0, '广东': 0, '海南': 0,\n",
    "    '四川': 0, '贵州': 0, '云南': 0,\n",
    "    '内蒙古': 0, '新疆': 0, '宁夏': 0, '广西': 0, '西藏': 0,\n",
    "    '香港': 0, '澳门': 0}\n",
    "\n",
    "# 统计省份\n",
    "for friend in my_friends:\n",
    "    if friend.province in province_dict.keys():\n",
    "        province_dict[friend.province] += 1\n",
    "\n",
    "# 为了方便数据的呈现，生成JSON Array格式数据\n",
    "data = []\n",
    "for key, value in province_dict.items():\n",
    "    data.append({'name': key, 'value': value})\n",
    "\n",
    "print(data)"
   ]
  },
  {
   "cell_type": "code",
   "execution_count": 16,
   "metadata": {},
   "outputs": [
    {
     "name": "stderr",
     "output_type": "stream",
     "text": [
      "LOG OUT!\n"
     ]
    }
   ],
   "source": [
    "import re\n",
    "def write_txt_file(path, txt):\n",
    "    '''\n",
    "    写入txt文本\n",
    "    '''\n",
    "    with open(path, 'a', encoding='gb18030', newline='') as f:\n",
    "        f.write(txt)    \n",
    "\n",
    "# 统计签名\n",
    "for friend in my_friends:\n",
    "    # 对数据进行清洗，将标点符号等对词频统计造成影响的因素剔除\n",
    "    pattern = re.compile(r'[一-龥]+')\n",
    "    filterdata = re.findall(pattern, friend.signature)\n",
    "    write_txt_file('signatures.txt', ''.join(filterdata))"
   ]
  },
  {
   "cell_type": "code",
   "execution_count": null,
   "metadata": {},
   "outputs": [],
   "source": []
  }
 ],
 "metadata": {
  "kernelspec": {
   "display_name": "Python 3",
   "language": "python",
   "name": "python3"
  },
  "language_info": {
   "codemirror_mode": {
    "name": "ipython",
    "version": 3
   },
   "file_extension": ".py",
   "mimetype": "text/x-python",
   "name": "python",
   "nbconvert_exporter": "python",
   "pygments_lexer": "ipython3",
   "version": "3.6.3"
  }
 },
 "nbformat": 4,
 "nbformat_minor": 2
}
